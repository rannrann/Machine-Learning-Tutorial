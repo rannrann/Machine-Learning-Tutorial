{
 "cells": [
  {
   "cell_type": "code",
   "execution_count": 1,
   "metadata": {},
   "outputs": [],
   "source": [
    "import numpy as np\n",
    "import matplotlib.pyplot as plt"
   ]
  },
  {
   "cell_type": "markdown",
   "metadata": {},
   "source": [
    "## 最值归一化 Normalization"
   ]
  },
  {
   "cell_type": "code",
   "execution_count": 2,
   "metadata": {},
   "outputs": [
    {
     "data": {
      "text/plain": [
       "array([73, 73, 30, 67, 98, 59, 38, 50, 35, 80, 91, 65, 56, 95, 98, 41,  5,\n",
       "       18, 67, 71, 15, 82, 20, 22, 96, 75, 30, 72, 48, 94, 58, 28, 59, 12,\n",
       "       79,  0, 92, 33,  1, 52, 58, 69, 59, 58, 97, 40, 52, 91, 52,  3, 27,\n",
       "       73,  0, 61, 83, 29,  0, 20,  9, 39, 40, 53, 19, 95, 92, 24, 50, 53,\n",
       "       85, 60, 61, 66, 34, 41, 80, 73, 15, 99, 62, 93, 26, 85, 39, 68, 98,\n",
       "       64, 31, 44, 82, 11, 13,  7, 65, 78, 35, 39, 87,  1, 96, 90])"
      ]
     },
     "execution_count": 2,
     "metadata": {},
     "output_type": "execute_result"
    }
   ],
   "source": [
    "x = np.random.randint(0, 100, 100) # 从0到100的100个数\n",
    "x"
   ]
  },
  {
   "cell_type": "code",
   "execution_count": 3,
   "metadata": {},
   "outputs": [
    {
     "data": {
      "text/plain": [
       "array([0.73737374, 0.73737374, 0.3030303 , 0.67676768, 0.98989899,\n",
       "       0.5959596 , 0.38383838, 0.50505051, 0.35353535, 0.80808081,\n",
       "       0.91919192, 0.65656566, 0.56565657, 0.95959596, 0.98989899,\n",
       "       0.41414141, 0.05050505, 0.18181818, 0.67676768, 0.71717172,\n",
       "       0.15151515, 0.82828283, 0.2020202 , 0.22222222, 0.96969697,\n",
       "       0.75757576, 0.3030303 , 0.72727273, 0.48484848, 0.94949495,\n",
       "       0.58585859, 0.28282828, 0.5959596 , 0.12121212, 0.7979798 ,\n",
       "       0.        , 0.92929293, 0.33333333, 0.01010101, 0.52525253,\n",
       "       0.58585859, 0.6969697 , 0.5959596 , 0.58585859, 0.97979798,\n",
       "       0.4040404 , 0.52525253, 0.91919192, 0.52525253, 0.03030303,\n",
       "       0.27272727, 0.73737374, 0.        , 0.61616162, 0.83838384,\n",
       "       0.29292929, 0.        , 0.2020202 , 0.09090909, 0.39393939,\n",
       "       0.4040404 , 0.53535354, 0.19191919, 0.95959596, 0.92929293,\n",
       "       0.24242424, 0.50505051, 0.53535354, 0.85858586, 0.60606061,\n",
       "       0.61616162, 0.66666667, 0.34343434, 0.41414141, 0.80808081,\n",
       "       0.73737374, 0.15151515, 1.        , 0.62626263, 0.93939394,\n",
       "       0.26262626, 0.85858586, 0.39393939, 0.68686869, 0.98989899,\n",
       "       0.64646465, 0.31313131, 0.44444444, 0.82828283, 0.11111111,\n",
       "       0.13131313, 0.07070707, 0.65656566, 0.78787879, 0.35353535,\n",
       "       0.39393939, 0.87878788, 0.01010101, 0.96969697, 0.90909091])"
      ]
     },
     "execution_count": 3,
     "metadata": {},
     "output_type": "execute_result"
    }
   ],
   "source": [
    "(x - np.min(x)) / (np.max(x) - np.min(x))"
   ]
  },
  {
   "cell_type": "code",
   "execution_count": 4,
   "metadata": {},
   "outputs": [
    {
     "data": {
      "text/plain": [
       "array([[73., 98.],\n",
       "       [84.,  7.],\n",
       "       [15., 61.],\n",
       "       [29., 74.],\n",
       "       [35., 58.],\n",
       "       [78., 19.],\n",
       "       [40., 29.],\n",
       "       [98., 29.],\n",
       "       [71., 46.],\n",
       "       [42., 27.]])"
      ]
     },
     "execution_count": 4,
     "metadata": {},
     "output_type": "execute_result"
    }
   ],
   "source": [
    "X = np.random.randint(0, 100, (50, 2)) # 创建50行2列的向量，元素取值范围从0到100\n",
    "X = np.array(X, dtype = float) # 改变类型为float\n",
    "X[:10,:]"
   ]
  },
  {
   "cell_type": "code",
   "execution_count": 5,
   "metadata": {},
   "outputs": [
    {
     "data": {
      "text/plain": [
       "array([[0.74489796, 1.        ],\n",
       "       [0.85714286, 0.06185567],\n",
       "       [0.15306122, 0.6185567 ],\n",
       "       [0.29591837, 0.75257732],\n",
       "       [0.35714286, 0.58762887],\n",
       "       [0.79591837, 0.18556701],\n",
       "       [0.40816327, 0.28865979],\n",
       "       [1.        , 0.28865979],\n",
       "       [0.7244898 , 0.46391753],\n",
       "       [0.42857143, 0.26804124]])"
      ]
     },
     "execution_count": 5,
     "metadata": {},
     "output_type": "execute_result"
    }
   ],
   "source": [
    "X[:,0] = (X[:,0] - np.min(X[:,0])) / (np.max(X[:,0]) - np.min(X[:,0]))\n",
    "X[:,1] = (X[:,1] - np.min(X[:,1])) / (np.max(X[:,1]) - np.min(X[:,1]))\n",
    "X[:10,:]"
   ]
  },
  {
   "cell_type": "code",
   "execution_count": 6,
   "metadata": {},
   "outputs": [
    {
     "data": {
      "image/png": "[encoded data removed]",
      "text/plain": [
       "<Figure size 432x288 with 1 Axes>"
      ]
     },
     "metadata": {
      "needs_background": "light"
     },
     "output_type": "display_data"
    }
   ],
   "source": [
    "plt.scatter(X[:,0], X[:,1])\n",
    "plt.show()"
   ]
  },
  {
   "cell_type": "code",
   "execution_count": 7,
   "metadata": {},
   "outputs": [
    {
     "data": {
      "text/plain": [
       "0.4557142857142856"
      ]
     },
     "execution_count": 7,
     "metadata": {},
     "output_type": "execute_result"
    }
   ],
   "source": [
    "np.mean(X[:,0])"
   ]
  },
  {
   "cell_type": "code",
   "execution_count": 8,
   "metadata": {},
   "outputs": [
    {
     "data": {
      "text/plain": [
       "0.2823166051723106"
      ]
     },
     "execution_count": 8,
     "metadata": {},
     "output_type": "execute_result"
    }
   ],
   "source": [
    "np.std(X[:,0])"
   ]
  },
  {
   "cell_type": "code",
   "execution_count": 9,
   "metadata": {},
   "outputs": [
    {
     "data": {
      "text/plain": [
       "0.48762886597938143"
      ]
     },
     "execution_count": 9,
     "metadata": {},
     "output_type": "execute_result"
    }
   ],
   "source": [
    "np.mean(X[:,1])"
   ]
  },
  {
   "cell_type": "code",
   "execution_count": 10,
   "metadata": {},
   "outputs": [
    {
     "data": {
      "text/plain": [
       "0.26866897152635"
      ]
     },
     "execution_count": 10,
     "metadata": {},
     "output_type": "execute_result"
    }
   ],
   "source": [
    "np.std(X[:,1])"
   ]
  },
  {
   "cell_type": "markdown",
   "metadata": {},
   "source": [
    "## 均值方差归一化 Standardization"
   ]
  },
  {
   "cell_type": "code",
   "execution_count": 11,
   "metadata": {},
   "outputs": [
    {
     "data": {
      "text/plain": [
       "array([[12., 64.],\n",
       "       [69., 75.],\n",
       "       [31., 46.],\n",
       "       [ 1., 10.],\n",
       "       [70., 33.],\n",
       "       [99., 27.],\n",
       "       [14., 27.],\n",
       "       [40., 80.],\n",
       "       [39., 56.],\n",
       "       [45., 51.]])"
      ]
     },
     "execution_count": 11,
     "metadata": {},
     "output_type": "execute_result"
    }
   ],
   "source": [
    "X2 = np.random.randint(0, 100, (50, 2))  # 创建50行2列的向量，元素取值范围从0到100\n",
    "X2 = np.array(X2, dtype=float)\n",
    "X2[:10,:]"
   ]
  },
  {
   "cell_type": "code",
   "execution_count": 12,
   "metadata": {},
   "outputs": [
    {
     "data": {
      "image/png": "[encoded data removed]",
      "text/plain": [
       "<Figure size 432x288 with 1 Axes>"
      ]
     },
     "metadata": {
      "needs_background": "light"
     },
     "output_type": "display_data"
    }
   ],
   "source": [
    "X2[:,0] = (X2[:,0] - np.mean(X2[:,0])) / np.std(X2[:,0])\n",
    "X2[:,1] = (X2[:,1] - np.mean(X2[:,1])) / np.std(X2[:,1])\n",
    "plt.scatter(X2[:,0], X2[:,1])\n",
    "plt.show()"
   ]
  },
  {
   "cell_type": "code",
   "execution_count": 13,
   "metadata": {},
   "outputs": [
    {
     "data": {
      "text/plain": [
       "2.6645352591003756e-17"
      ]
     },
     "execution_count": 13,
     "metadata": {},
     "output_type": "execute_result"
    }
   ],
   "source": [
    "np.mean(X2[:,0])"
   ]
  },
  {
   "cell_type": "code",
   "execution_count": 14,
   "metadata": {},
   "outputs": [
    {
     "data": {
      "text/plain": [
       "1.0000000000000002"
      ]
     },
     "execution_count": 14,
     "metadata": {},
     "output_type": "execute_result"
    }
   ],
   "source": [
    "np.std(X2[:,0])"
   ]
  },
  {
   "cell_type": "code",
   "execution_count": 15,
   "metadata": {},
   "outputs": [
    {
     "data": {
      "text/plain": [
       "6.217248937900877e-17"
      ]
     },
     "execution_count": 15,
     "metadata": {},
     "output_type": "execute_result"
    }
   ],
   "source": [
    "np.mean(X2[:,1])"
   ]
  },
  {
   "cell_type": "code",
   "execution_count": 16,
   "metadata": {},
   "outputs": [
    {
     "data": {
      "text/plain": [
       "1.0"
      ]
     },
     "execution_count": 16,
     "metadata": {},
     "output_type": "execute_result"
    }
   ],
   "source": [
    "np.std(X2[:,1])"
   ]
  },
  {
   "cell_type": "code",
   "execution_count": null,
   "metadata": {},
   "outputs": [],
   "source": []
  }
 ],
 "metadata": {
  "kernelspec": {
   "display_name": "Python 3",
   "language": "python",
   "name": "python3"
  },
  "language_info": {
   "codemirror_mode": {
    "name": "ipython",
    "version": 3
   },
   "file_extension": ".py",
   "mimetype": "text/x-python",
   "name": "python",
   "nbconvert_exporter": "python",
   "pygments_lexer": "ipython3",
   "version": "3.7.5"
  }
 },
 "nbformat": 4,
 "nbformat_minor": 2
}
